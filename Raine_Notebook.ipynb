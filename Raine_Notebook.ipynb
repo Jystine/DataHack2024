{
 "cells": [
  {
   "cell_type": "code",
   "execution_count": 6,
   "id": "312a6844",
   "metadata": {},
   "outputs": [],
   "source": [
    "import pandas as pd\n",
    "import splitfolders"
   ]
  },
  {
   "cell_type": "code",
   "execution_count": 2,
   "id": "938d447b",
   "metadata": {
    "scrolled": true
   },
   "outputs": [
    {
     "data": {
      "text/html": [
       "<div>\n",
       "<style scoped>\n",
       "    .dataframe tbody tr th:only-of-type {\n",
       "        vertical-align: middle;\n",
       "    }\n",
       "\n",
       "    .dataframe tbody tr th {\n",
       "        vertical-align: top;\n",
       "    }\n",
       "\n",
       "    .dataframe thead th {\n",
       "        text-align: right;\n",
       "    }\n",
       "</style>\n",
       "<table border=\"1\" class=\"dataframe\">\n",
       "  <thead>\n",
       "    <tr style=\"text-align: right;\">\n",
       "      <th></th>\n",
       "      <th>Name</th>\n",
       "      <th>Period</th>\n",
       "      <th>Diet</th>\n",
       "      <th>Country</th>\n",
       "    </tr>\n",
       "  </thead>\n",
       "  <tbody>\n",
       "    <tr>\n",
       "      <th>0</th>\n",
       "      <td>Aardonyx</td>\n",
       "      <td>Jurassic</td>\n",
       "      <td>herbivore</td>\n",
       "      <td>South Africa</td>\n",
       "    </tr>\n",
       "    <tr>\n",
       "      <th>1</th>\n",
       "      <td>Abelisaurus</td>\n",
       "      <td>Cretaceous</td>\n",
       "      <td>carnivore</td>\n",
       "      <td>South America</td>\n",
       "    </tr>\n",
       "    <tr>\n",
       "      <th>2</th>\n",
       "      <td>Abrictosaurus</td>\n",
       "      <td>Jurassic</td>\n",
       "      <td>herbivore</td>\n",
       "      <td>South Africa</td>\n",
       "    </tr>\n",
       "    <tr>\n",
       "      <th>3</th>\n",
       "      <td>Abrosaurus</td>\n",
       "      <td>Jurassic</td>\n",
       "      <td>herbivore</td>\n",
       "      <td>China</td>\n",
       "    </tr>\n",
       "    <tr>\n",
       "      <th>4</th>\n",
       "      <td>Abydosaurus</td>\n",
       "      <td>Cretaceous</td>\n",
       "      <td>herbivore</td>\n",
       "      <td>North America</td>\n",
       "    </tr>\n",
       "  </tbody>\n",
       "</table>\n",
       "</div>"
      ],
      "text/plain": [
       "            Name             Period       Diet        Country\n",
       "0       Aardonyx           Jurassic  herbivore   South Africa\n",
       "1    Abelisaurus  Cretaceous         carnivore  South America\n",
       "2  Abrictosaurus           Jurassic  herbivore   South Africa\n",
       "3     Abrosaurus           Jurassic  herbivore          China\n",
       "4    Abydosaurus         Cretaceous  herbivore  North America"
      ]
     },
     "execution_count": 2,
     "metadata": {},
     "output_type": "execute_result"
    }
   ],
   "source": [
    "dinosaur = pd.read_csv(\"data/dinosaur.csv\")\n",
    "\n",
    "dinosaur.head()"
   ]
  },
  {
   "cell_type": "code",
   "execution_count": null,
   "id": "04cdc236",
   "metadata": {},
   "outputs": [],
   "source": [
    "splitfolders.ratio(\"data\", ratio = (.8, .1, .1))"
   ]
  },
  {
   "cell_type": "code",
   "execution_count": 3,
   "id": "86fedc03",
   "metadata": {},
   "outputs": [
    {
     "name": "stdout",
     "output_type": "stream",
     "text": [
      "Folder PATH listing for volume Windows\n",
      "Volume serial number is 2AF4-788F\n",
      "C:.\n",
      "+---.ipynb_checkpoints\n",
      "+---data\n",
      "    +---ankylosaurus\n",
      "    +---brontosaurus\n",
      "    +---pterodactyl\n",
      "    +---trex\n",
      "    +---triceratops\n"
     ]
    }
   ],
   "source": [
    "!tree"
   ]
  },
  {
   "cell_type": "code",
   "execution_count": 4,
   "id": "85179eb2",
   "metadata": {},
   "outputs": [
    {
     "name": "stdout",
     "output_type": "stream",
     "text": [
      "Collecting split-folders\n",
      "  Downloading split_folders-0.5.1-py3-none-any.whl (8.4 kB)\n",
      "Installing collected packages: split-folders\n",
      "Successfully installed split-folders-0.5.1\n"
     ]
    }
   ],
   "source": [
    "!pip install split-folders"
   ]
  },
  {
   "cell_type": "code",
   "execution_count": null,
   "id": "626879c5",
   "metadata": {},
   "outputs": [],
   "source": []
  }
 ],
 "metadata": {
  "kernelspec": {
   "display_name": "Python 3 (ipykernel)",
   "language": "python",
   "name": "python3"
  },
  "language_info": {
   "codemirror_mode": {
    "name": "ipython",
    "version": 3
   },
   "file_extension": ".py",
   "mimetype": "text/x-python",
   "name": "python",
   "nbconvert_exporter": "python",
   "pygments_lexer": "ipython3",
   "version": "3.10.9"
  }
 },
 "nbformat": 4,
 "nbformat_minor": 5
}
